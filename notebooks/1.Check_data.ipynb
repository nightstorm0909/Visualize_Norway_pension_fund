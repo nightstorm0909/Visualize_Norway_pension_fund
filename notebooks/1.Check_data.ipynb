{
 "cells": [
  {
   "cell_type": "code",
   "execution_count": null,
   "id": "9de7ca03-ed48-4da9-9cfc-fdd432336dd5",
   "metadata": {},
   "outputs": [],
   "source": [
    "import ast\n",
    "\n",
    "import os, sys\n",
    "sys.path.insert(0, '../utils/')\n",
    "\n",
    "import numpy as np\n",
    "import pandas as pd\n",
    "import matplotlib.pyplot as plt\n",
    "\n",
    "from multiprocessing import Pool\n",
    "from functools import partial\n",
    "from calculate_metrics import get_country_investments, get_country_investments_by_year, get_country_investments_by_year_multiprocess, get_countries_by_year_multiprocess\n",
    "from calculate_metrics import get_total_investments_by_year_multiprocess\n",
    "\n",
    "%matplotlib inline"
   ]
  },
  {
   "cell_type": "code",
   "execution_count": null,
   "id": "9c29ee18-5d84-4af6-baac-dca96042c28c",
   "metadata": {},
   "outputs": [],
   "source": [
    "eq_file = '../data/equities/EQ_1998_Country.xlsx'\n",
    "df = pd.read_excel(eq_file)"
   ]
  },
  {
   "cell_type": "code",
   "execution_count": null,
   "id": "162b5687-8b5f-439a-8e9a-7f84a0eecfeb",
   "metadata": {},
   "outputs": [],
   "source": [
    "df.head()"
   ]
  },
  {
   "cell_type": "code",
   "execution_count": null,
   "id": "6ed6ae5a-5a34-43d4-84e1-98ae12458e1c",
   "metadata": {},
   "outputs": [],
   "source": [
    "pd.read_excel('../data/infrastructure/INF_2021_Country.xlsx')"
   ]
  },
  {
   "cell_type": "code",
   "execution_count": null,
   "id": "be25d167-df3d-4b7a-a92a-b0d054bdd83c",
   "metadata": {},
   "outputs": [],
   "source": [
    "pd.read_excel('../data/real_estate/RE_2011_Country.xlsx').head(5)"
   ]
  },
  {
   "cell_type": "code",
   "execution_count": null,
   "id": "1343a40c-ec32-455b-84bd-adfcd953f289",
   "metadata": {},
   "outputs": [],
   "source": [
    "print(get_country_investments(input_df=df, country='Singapore', financial_sector=''))\n",
    "print(get_country_investments(input_df=pd.read_excel('../data/real_estate/RE_2011_Country.xlsx'), country='France', financial_sector='real estate'))"
   ]
  },
  {
   "cell_type": "code",
   "execution_count": null,
   "id": "efc58013-9acd-42a3-a3cc-114f635fb128",
   "metadata": {},
   "outputs": [],
   "source": [
    "for file in os.listdir('../data/equities'):\n",
    "    if 'data_here' in file: continue\n",
    "    print(file)\n",
    "    year = int(file.split('_')[1])\n",
    "    print(\"Year:\", year, type(year))"
   ]
  },
  {
   "cell_type": "code",
   "execution_count": null,
   "id": "6cd55257-5c2d-4d3c-9a54-913119bd7a66",
   "metadata": {},
   "outputs": [],
   "source": [
    "# %timeit get_country_investments_by_year_multiprocess(data_dir='../data/equities', country='Singapore')"
   ]
  },
  {
   "cell_type": "code",
   "execution_count": null,
   "id": "3748f7e0-7429-4ecd-a94b-2f57f8c3eb11",
   "metadata": {},
   "outputs": [],
   "source": [
    "# %timeit get_country_investments_by_year(data_dir='../data/equities', country='Singapore')"
   ]
  },
  {
   "cell_type": "code",
   "execution_count": null,
   "id": "c275e880-ee1e-447c-be8a-1c2bd3bd9d0c",
   "metadata": {},
   "outputs": [],
   "source": [
    "# investments = get_country_investments_by_year(data_dir='../data/equities', country='Singapore')\n",
    "investments = get_country_investments_by_year_multiprocess(data_dir='../data/equities', country='India')\n",
    "investments = sorted(investments, key=lambda x: x[0])\n",
    "investments"
   ]
  },
  {
   "cell_type": "code",
   "execution_count": null,
   "id": "95a9d562-e97c-4422-93cf-ce760d7bf07c",
   "metadata": {},
   "outputs": [],
   "source": [
    "# Extract years and values\n",
    "years = [item[0] for item in investments]\n",
    "values = [item[1] for item in investments]\n",
    "\n",
    "# Plotting\n",
    "plt.figure(figsize=(10, 6))\n",
    "plt.bar(years, values, color='skyblue')\n",
    "plt.xlabel('Year')\n",
    "plt.ylabel('USD')\n",
    "plt.title('India investments over the Year')\n",
    "plt.grid(True, alpha=0.3)\n",
    "plt.show()"
   ]
  },
  {
   "cell_type": "markdown",
   "id": "2c2702b5-8017-413d-9bc4-896a1ca0cd85",
   "metadata": {},
   "source": [
    "# Creating Processed data"
   ]
  },
  {
   "cell_type": "markdown",
   "id": "9efd29f1-4d5f-4d5b-bc05-0fbd41d17bfe",
   "metadata": {},
   "source": [
    "## Invested Countries by year"
   ]
  },
  {
   "cell_type": "code",
   "execution_count": null,
   "id": "23b6256e-625d-4034-b2e6-56be6c2eee31",
   "metadata": {},
   "outputs": [],
   "source": [
    "countries_by_year = get_countries_by_year_multiprocess(data_dir='../data/equities/')\n",
    "countries_by_year = sorted(countries_by_year, key=lambda x: x[0])\n",
    "df_countries_equity = pd.DataFrame(countries_by_year, columns=['Year', 'Countries'])\n",
    "df_countries_equity['type'] = 'equities'\n",
    "\n",
    "countries_by_year = get_countries_by_year_multiprocess(data_dir='../data/real_estate/')\n",
    "countries_by_year = sorted(countries_by_year, key=lambda x: x[0])\n",
    "df_countries_real_estate = pd.DataFrame(countries_by_year, columns=['Year', 'Countries'])\n",
    "df_countries_real_estate['type'] = 'real estate'\n",
    "\n",
    "countries_by_year = get_countries_by_year_multiprocess(data_dir='../data/fixed_income/')\n",
    "countries_by_year = sorted(countries_by_year, key=lambda x: x[0])\n",
    "df_countries_fixed_income = pd.DataFrame(countries_by_year, columns=['Year', 'Countries'])\n",
    "df_countries_fixed_income['type'] = 'fixed income'\n",
    "\n",
    "countries_by_year = get_countries_by_year_multiprocess(data_dir='../data/infrastructure/')\n",
    "countries_by_year = sorted(countries_by_year, key=lambda x: x[0])\n",
    "df_countries_infrastructure = pd.DataFrame(countries_by_year, columns=['Year', 'Countries'])\n",
    "df_countries_infrastructure['type'] = 'infrastructure'\n",
    "\n",
    "pd.concat([df_countries_equity, df_countries_real_estate, df_countries_fixed_income, df_countries_infrastructure], ignore_index=False).to_csv(f'../data/processed_data/countries_by_year.csv', index=False)"
   ]
  },
  {
   "cell_type": "markdown",
   "id": "473a42ad-c4d0-457b-ad90-d38bdd50ea36",
   "metadata": {},
   "source": [
    "## Total investments by year"
   ]
  },
  {
   "cell_type": "code",
   "execution_count": null,
   "id": "f50abc34-ef7c-479c-a747-fbc911b88fb7",
   "metadata": {},
   "outputs": [],
   "source": [
    "get_total_investments_by_year_multiprocess(data_dir='../data/real_estate/')"
   ]
  },
  {
   "cell_type": "code",
   "execution_count": null,
   "id": "a0b5f109-2db2-4534-b9a9-a9f7fbc8fd45",
   "metadata": {},
   "outputs": [],
   "source": [
    "total_by_year = get_total_investments_by_year_multiprocess(data_dir='../data/equities/')\n",
    "total_by_year = sorted(total_by_year, key=lambda x: x[0])\n",
    "df_equity = pd.DataFrame(total_by_year, columns=['Year', 'USD'])\n",
    "df_equity['type'] = 'equities'\n",
    "\n",
    "total_by_year = get_total_investments_by_year_multiprocess(data_dir='../data/real_estate/')\n",
    "total_by_year = sorted(total_by_year, key=lambda x: x[0])\n",
    "df_real_estate = pd.DataFrame(total_by_year, columns=['Year', 'USD'])\n",
    "df_real_estate['type'] = 'real estate'\n",
    "\n",
    "total_by_year = get_total_investments_by_year_multiprocess(data_dir='../data/fixed_income/')\n",
    "total_by_year = sorted(total_by_year, key=lambda x: x[0])\n",
    "df_fixed_income = pd.DataFrame(total_by_year, columns=['Year', 'USD'])\n",
    "df_fixed_income['type'] = 'fixed income'\n",
    "\n",
    "total_by_year = get_total_investments_by_year_multiprocess(data_dir='../data/infrastructure/')\n",
    "total_by_year = sorted(total_by_year, key=lambda x: x[0])\n",
    "df_infrastructure = pd.DataFrame(total_by_year, columns=['Year', 'USD'])\n",
    "df_infrastructure['type'] = 'infrastructure'\n",
    "\n",
    "pd.concat([df_equity, df_real_estate, df_fixed_income, df_infrastructure], ignore_index=False).to_csv(f'../data/processed_data/total_investments_by_year.csv', index=False)"
   ]
  },
  {
   "cell_type": "markdown",
   "id": "4005a630-69da-411f-8acb-37f42d62989b",
   "metadata": {},
   "source": [
    "## Country investments by year"
   ]
  },
  {
   "cell_type": "code",
   "execution_count": null,
   "id": "4a940932-1e90-40a7-9609-edeee388276e",
   "metadata": {},
   "outputs": [],
   "source": [
    "investments = get_country_investments_by_year_multiprocess(data_dir='../data/equities', country='India')\n",
    "# investments = sorted(investments, key=lambda x: x[0])\n",
    "# investments\n",
    "eq_dict = {}\n",
    "for year, investment in investments:\n",
    "    eq_dict[year] = investment\n",
    "eq_dict"
   ]
  },
  {
   "cell_type": "code",
   "execution_count": null,
   "id": "fa92bd51-e4fe-4f85-be44-0b3aa7875552",
   "metadata": {},
   "outputs": [],
   "source": [
    "df_countries_investments = pd.DataFrame(columns=['Year', 'Country', 'equities', 'real estate', 'fixed income', 'infrastructure', 'Total Investments' ])\n",
    "df_countries_investments"
   ]
  },
  {
   "cell_type": "code",
   "execution_count": null,
   "id": "85474ca6-3c22-41d7-9a54-f3a0e2ab9826",
   "metadata": {},
   "outputs": [],
   "source": [
    "df_countries = pd.read_csv('../data/processed_data/countries_by_year.csv')\n",
    "print('Getting the Full Country list')\n",
    "country_list = []\n",
    "for idx, row in df_countries.iterrows():\n",
    "    if len(country_list)==0:\n",
    "        country_list = list(ast.literal_eval(row['Countries']))\n",
    "    else:\n",
    "        tmp_list = list(ast.literal_eval(row['Countries']))\n",
    "        for country in tmp_list:\n",
    "            if country not in country_list: country_list.append(country)\n",
    "    # break\n",
    "print(country_list)"
   ]
  },
  {
   "cell_type": "code",
   "execution_count": null,
   "id": "f8f9cec1-e207-478b-b4f8-bd8d0cb5a510",
   "metadata": {},
   "outputs": [],
   "source": [
    "df_countries_investments = pd.DataFrame(columns=['Year', 'Country', 'equities', 'real estate', 'fixed income', 'infrastructure', 'Total Investments' ])\n",
    "if not os.path.exists('../data/processed_data/countries_investments_by_year.csv'):\n",
    "    for idx, country in enumerate(country_list):\n",
    "        min_year, max_year = 3000, 0\n",
    "        print(f'{idx+1}. {country=}')\n",
    "        # Equities\n",
    "        investments = get_country_investments_by_year_multiprocess(data_dir='../data/equities', country=country)\n",
    "        eq_dict = {}\n",
    "        for year, investment in investments:\n",
    "            eq_dict[year] = investment\n",
    "            if min_year > year: min_year = year\n",
    "            if max_year < year: max_year = year\n",
    "    \n",
    "        # Fixed Income\n",
    "        investments = get_country_investments_by_year_multiprocess(data_dir='../data/fixed_income', country=country)\n",
    "        fi_dict = {}\n",
    "        for year, investment in investments:\n",
    "            fi_dict[year] = investment\n",
    "            if min_year > year: min_year = year\n",
    "            if max_year < year: max_year = year\n",
    "    \n",
    "        # Real Estate\n",
    "        investments = get_country_investments_by_year_multiprocess(data_dir='../data/real_estate', country=country)\n",
    "        re_dict = {}\n",
    "        for year, investment in investments:\n",
    "            re_dict[year] = investment\n",
    "            if min_year > year: min_year = year\n",
    "            if max_year < year: max_year = year\n",
    "        \n",
    "        # Infrastructure\n",
    "        investments = get_country_investments_by_year_multiprocess(data_dir='../data/infrastructure', country=country)\n",
    "        in_dict = {}\n",
    "        for year, investment in investments:\n",
    "            in_dict[year] = investment\n",
    "            if min_year > year: min_year = year\n",
    "            if max_year < year: max_year = year\n",
    "    \n",
    "        # tmp_dict = {'Year', 'Country', 'equities', 'real estate', 'fixed income', 'infrastructure', 'Total Investments'}\n",
    "        df_country_investments = pd.DataFrame(columns=['Year', 'Country', 'equities', 'real estate', 'fixed income', 'infrastructure', 'Total Investments' ])\n",
    "        for year in range(min_year, max_year+1):\n",
    "            tmp_dict = {'Year': year, 'Country': country,\n",
    "                        'equities': eq_dict[year] if year in eq_dict else 0,\n",
    "                        'real estate': re_dict[year] if year in re_dict else 0,\n",
    "                        'fixed income': fi_dict[year] if year in fi_dict else 0,\n",
    "                        'infrastructure': in_dict[year] if year in in_dict else 0,\n",
    "                       }\n",
    "            tmp_dict['Total Investments'] = tmp_dict['equities'] + tmp_dict['real estate'] + tmp_dict['fixed income'] + tmp_dict['infrastructure']\n",
    "            tmp_df = pd.DataFrame([tmp_dict])\n",
    "            df_country_investments = pd.concat([df_country_investments, tmp_df], ignore_index=True)\n",
    "        # print(min_year, max_year)\n",
    "        df_countries_investments = pd.concat([df_countries_investments, df_country_investments], ignore_index=True)\n",
    "        # if idx > 1 : break\n",
    "    df_countries_investments\n",
    "    df_countries_investments.to_csv('../data/processed_data/countries_investments_by_year.csv')"
   ]
  },
  {
   "cell_type": "code",
   "execution_count": null,
   "id": "01587d53-f0d5-4f87-9b4a-332c72d86fb9",
   "metadata": {},
   "outputs": [],
   "source": [
    "os.path.exists('../data/processed_data/countries_investments_by_year.csv')"
   ]
  },
  {
   "cell_type": "markdown",
   "id": "d3bafb85-416d-4f00-8f2d-2cea1c3445a5",
   "metadata": {},
   "source": [
    "### Veirfy the dataframe"
   ]
  },
  {
   "cell_type": "code",
   "execution_count": null,
   "id": "2d11aa7b-3b92-43db-8124-d52bc2480262",
   "metadata": {},
   "outputs": [],
   "source": [
    "df_total_investments = pd.read_csv('../data/processed_data/total_investments_by_year.csv')\n",
    "print(f'{min_year=}, {max_year=}')\n",
    "for year in range(min_year, max_year+1):\n",
    "    calculated_total = df_countries_investments[df_countries_investments['Year']==year]['Total Investments'].sum()\n",
    "    real_total_invested_value = df_total_investments[df_total_investments['Year']==year]['USD'].sum()\n",
    "    print(f'{year=}, Calculated total investment: {calculated_total}, Real total value: {real_total_invested_value}, assertion: {real_total_invested_value==real_total_invested_value}')\n",
    "    # break"
   ]
  },
  {
   "cell_type": "code",
   "execution_count": null,
   "id": "1c00970d-2420-4605-b032-a8675a5d5f92",
   "metadata": {},
   "outputs": [],
   "source": [
    "# df_countries_investments[df_countries_investments['Year']==1998]['Total Investments'].sum()\n",
    "# df_total_investments[df_total_investments['Year']==1998]['USD'].sum()"
   ]
  },
  {
   "cell_type": "code",
   "execution_count": null,
   "id": "f624af80-9e4e-4a1e-822f-dc6265d83888",
   "metadata": {},
   "outputs": [],
   "source": []
  }
 ],
 "metadata": {
  "kernelspec": {
   "display_name": "Python 3 (ipykernel)",
   "language": "python",
   "name": "python3"
  },
  "language_info": {
   "codemirror_mode": {
    "name": "ipython",
    "version": 3
   },
   "file_extension": ".py",
   "mimetype": "text/x-python",
   "name": "python",
   "nbconvert_exporter": "python",
   "pygments_lexer": "ipython3",
   "version": "3.11.8"
  }
 },
 "nbformat": 4,
 "nbformat_minor": 5
}
