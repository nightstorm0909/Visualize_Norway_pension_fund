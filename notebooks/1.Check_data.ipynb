{
 "cells": [
  {
   "cell_type": "code",
   "execution_count": null,
   "id": "9de7ca03-ed48-4da9-9cfc-fdd432336dd5",
   "metadata": {},
   "outputs": [],
   "source": [
    "import os, sys\n",
    "sys.path.insert(0, '../utils/')\n",
    "\n",
    "import numpy as np\n",
    "import pandas as pd\n",
    "import matplotlib.pyplot as plt\n",
    "\n",
    "from multiprocessing import Pool\n",
    "from functools import partial\n",
    "from calculate_metrics import get_country_investments, get_country_investments_by_year, get_country_investments_by_year_multiprocess, get_countries_by_year_multiprocess\n",
    "\n",
    "%matplotlib inline"
   ]
  },
  {
   "cell_type": "code",
   "execution_count": null,
   "id": "9c29ee18-5d84-4af6-baac-dca96042c28c",
   "metadata": {},
   "outputs": [],
   "source": [
    "eq_file = '../data/equities/EQ_1998_Country.xlsx'\n",
    "df = pd.read_excel(eq_file)"
   ]
  },
  {
   "cell_type": "code",
   "execution_count": null,
   "id": "162b5687-8b5f-439a-8e9a-7f84a0eecfeb",
   "metadata": {},
   "outputs": [],
   "source": [
    "df.head()"
   ]
  },
  {
   "cell_type": "code",
   "execution_count": null,
   "id": "6ed6ae5a-5a34-43d4-84e1-98ae12458e1c",
   "metadata": {},
   "outputs": [],
   "source": [
    "set(df['Country'])"
   ]
  },
  {
   "cell_type": "code",
   "execution_count": null,
   "id": "1343a40c-ec32-455b-84bd-adfcd953f289",
   "metadata": {},
   "outputs": [],
   "source": [
    "get_country_investments(input_df=df, country='Singapore')"
   ]
  },
  {
   "cell_type": "code",
   "execution_count": null,
   "id": "efc58013-9acd-42a3-a3cc-114f635fb128",
   "metadata": {
    "jupyter": {
     "outputs_hidden": true
    }
   },
   "outputs": [],
   "source": [
    "for file in os.listdir('../data/equities'):\n",
    "    if 'data_here' in file: continue\n",
    "    print(file)\n",
    "    year = int(file.split('_')[1])\n",
    "    print(\"Year:\", year, type(year))"
   ]
  },
  {
   "cell_type": "code",
   "execution_count": null,
   "id": "6cd55257-5c2d-4d3c-9a54-913119bd7a66",
   "metadata": {},
   "outputs": [],
   "source": [
    "# %timeit get_country_investments_by_year_multiprocess(data_dir='../data/equities', country='Singapore')"
   ]
  },
  {
   "cell_type": "code",
   "execution_count": null,
   "id": "3748f7e0-7429-4ecd-a94b-2f57f8c3eb11",
   "metadata": {},
   "outputs": [],
   "source": [
    "# %timeit get_country_investments_by_year(data_dir='../data/equities', country='Singapore')"
   ]
  },
  {
   "cell_type": "code",
   "execution_count": null,
   "id": "c275e880-ee1e-447c-be8a-1c2bd3bd9d0c",
   "metadata": {},
   "outputs": [],
   "source": [
    "# investments = get_country_investments_by_year(data_dir='../data/equities', country='Singapore')\n",
    "investments = get_country_investments_by_year_multiprocess(data_dir='../data/equities', country='India')\n",
    "investments = sorted(investments, key=lambda x: x[0])\n",
    "investments"
   ]
  },
  {
   "cell_type": "code",
   "execution_count": null,
   "id": "95a9d562-e97c-4422-93cf-ce760d7bf07c",
   "metadata": {},
   "outputs": [],
   "source": [
    "# Extract years and values\n",
    "years = [item[0] for item in investments]\n",
    "values = [item[1] for item in investments]\n",
    "\n",
    "# Plotting\n",
    "plt.figure(figsize=(10, 6))\n",
    "plt.bar(years, values, color='skyblue')\n",
    "plt.xlabel('Year')\n",
    "plt.ylabel('USD')\n",
    "plt.title('Singapore investments over the Year')\n",
    "plt.grid(True, alpha=0.3)\n",
    "plt.show()"
   ]
  },
  {
   "cell_type": "code",
   "execution_count": null,
   "id": "23b6256e-625d-4034-b2e6-56be6c2eee31",
   "metadata": {
    "jupyter": {
     "outputs_hidden": true
    }
   },
   "outputs": [],
   "source": [
    "get_countries_by_year_multiprocess(data_dir='../data/equities')"
   ]
  },
  {
   "cell_type": "code",
   "execution_count": null,
   "id": "96617efc-afd3-41b7-af41-ce5caaf814d6",
   "metadata": {},
   "outputs": [],
   "source": []
  }
 ],
 "metadata": {
  "kernelspec": {
   "display_name": "Python 3 (ipykernel)",
   "language": "python",
   "name": "python3"
  },
  "language_info": {
   "codemirror_mode": {
    "name": "ipython",
    "version": 3
   },
   "file_extension": ".py",
   "mimetype": "text/x-python",
   "name": "python",
   "nbconvert_exporter": "python",
   "pygments_lexer": "ipython3",
   "version": "3.11.8"
  }
 },
 "nbformat": 4,
 "nbformat_minor": 5
}
